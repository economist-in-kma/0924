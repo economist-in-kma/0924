{
  "nbformat": 4,
  "nbformat_minor": 0,
  "metadata": {
    "colab": {
      "name": "200924.ipynb",
      "provenance": [],
      "collapsed_sections": [],
      "toc_visible": true
    },
    "kernelspec": {
      "name": "python3",
      "display_name": "Python 3"
    }
  },
  "cells": [
    {
      "cell_type": "markdown",
      "metadata": {
        "id": "m2j-TFgi9aA_",
        "colab_type": "text"
      },
      "source": [
        "# **8강. 수치 데이터 전처리 기초**"
      ]
    },
    {
      "cell_type": "markdown",
      "metadata": {
        "id": "h-A9XFPZ9a-n",
        "colab_type": "text"
      },
      "source": [
        "\n",
        "\n",
        "*   **결측치(없는값)나 불필요한 데이터를 제거하거나 잘못 기록된 데이터를 바로잡는 작업을 데이터 정제(data cleaning)라고 한다.** "
      ]
    },
    {
      "cell_type": "markdown",
      "metadata": {
        "id": "HlZjxmGC9bBJ",
        "colab_type": "text"
      },
      "source": [
        "<img src=https://i.redd.it/ngdmak09ha131.jpg width=\"500\">"
      ]
    },
    {
      "cell_type": "markdown",
      "metadata": {
        "id": "MTAJa6qXArEJ",
        "colab_type": "text"
      },
      "source": [
        "*  **한편, 데이터를 모형에 넣기 전에 적절한 형태로 모양을 바꾸어주는 작업을 데이터 변환(data transformation)이라고 한다.**\n",
        "\n",
        "*  **데이터 정제와 변환을 비롯하여 본격적인 데이터 분석을 진행하기 전에 데이터를 가공해주는 과정을 데이터 전처리(data preprocessing)이라고 한다.**"
      ]
    },
    {
      "cell_type": "markdown",
      "metadata": {
        "id": "6a8Rv8DID1ra",
        "colab_type": "text"
      },
      "source": [
        "\n",
        "\n",
        "---\n",
        "\n"
      ]
    },
    {
      "cell_type": "markdown",
      "metadata": {
        "id": "KcI6hE_M9bFu",
        "colab_type": "text"
      },
      "source": [
        "# **순서**\n",
        "\n",
        "1.   pandas로 데이터 파일 재정렬하기\n",
        "\n",
        "2.  pandas로 여러 개의 데이터 파일을 하나로 병합하기\n",
        "\n",
        "3.  pyplot으로 국가별 1인당 GDP, 경제성장률, NATO 가입 여부를 그리기\n",
        "\n",
        "4.  경제성장률의 근사(approximation)를 통한 log 변환의 이해와 주의할 점\n",
        "\n",
        "5.  기타\n",
        "\n"
      ]
    },
    {
      "cell_type": "markdown",
      "metadata": {
        "id": "cX0X67Hm9bH4",
        "colab_type": "text"
      },
      "source": [
        "\n",
        "\n",
        "# **1. Pandas로 데이터 파일 재정렬하기**\n",
        "\n"
      ]
    },
    {
      "cell_type": "code",
      "metadata": {
        "id": "Q6-95qrM9ZRW",
        "colab_type": "code",
        "colab": {}
      },
      "source": [
        "import pandas as pd"
      ],
      "execution_count": 15,
      "outputs": []
    },
    {
      "cell_type": "code",
      "metadata": {
        "id": "lwYTKIivIris",
        "colab_type": "code",
        "colab": {}
      },
      "source": [
        "population = pd.read_csv('/content/population.csv', engine='python')"
      ],
      "execution_count": 16,
      "outputs": []
    },
    {
      "cell_type": "code",
      "metadata": {
        "id": "fb2cZWYOJKBk",
        "colab_type": "code",
        "colab": {
          "base_uri": "https://localhost:8080/",
          "height": 299
        },
        "outputId": "a62f87e7-7b08-4b17-9c75-69a69fa797b7"
      },
      "source": [
        "population"
      ],
      "execution_count": 17,
      "outputs": [
        {
          "output_type": "execute_result",
          "data": {
            "text/html": [
              "<div>\n",
              "<style scoped>\n",
              "    .dataframe tbody tr th:only-of-type {\n",
              "        vertical-align: middle;\n",
              "    }\n",
              "\n",
              "    .dataframe tbody tr th {\n",
              "        vertical-align: top;\n",
              "    }\n",
              "\n",
              "    .dataframe thead th {\n",
              "        text-align: right;\n",
              "    }\n",
              "</style>\n",
              "<table border=\"1\" class=\"dataframe\">\n",
              "  <thead>\n",
              "    <tr style=\"text-align: right;\">\n",
              "      <th></th>\n",
              "      <th>Country Name</th>\n",
              "      <th>1980</th>\n",
              "      <th>1981</th>\n",
              "      <th>1982</th>\n",
              "      <th>1983</th>\n",
              "      <th>1984</th>\n",
              "      <th>1985</th>\n",
              "      <th>1986</th>\n",
              "      <th>1987</th>\n",
              "      <th>1988</th>\n",
              "      <th>1989</th>\n",
              "      <th>1990</th>\n",
              "      <th>1991</th>\n",
              "      <th>1992</th>\n",
              "      <th>1993</th>\n",
              "      <th>1994</th>\n",
              "      <th>1995</th>\n",
              "      <th>1996</th>\n",
              "      <th>1997</th>\n",
              "      <th>1998</th>\n",
              "      <th>1999</th>\n",
              "      <th>2000</th>\n",
              "      <th>2001</th>\n",
              "      <th>2002</th>\n",
              "      <th>2003</th>\n",
              "      <th>2004</th>\n",
              "      <th>2005</th>\n",
              "      <th>2006</th>\n",
              "      <th>2007</th>\n",
              "      <th>2008</th>\n",
              "      <th>2009</th>\n",
              "      <th>2010</th>\n",
              "      <th>2011</th>\n",
              "      <th>2012</th>\n",
              "      <th>2013</th>\n",
              "      <th>2014</th>\n",
              "      <th>2015</th>\n",
              "      <th>2016</th>\n",
              "      <th>2017</th>\n",
              "      <th>2018</th>\n",
              "      <th>2019</th>\n",
              "    </tr>\n",
              "  </thead>\n",
              "  <tbody>\n",
              "    <tr>\n",
              "      <th>0</th>\n",
              "      <td>China</td>\n",
              "      <td>981235000</td>\n",
              "      <td>993885000</td>\n",
              "      <td>1008630000</td>\n",
              "      <td>1023310000</td>\n",
              "      <td>1036825000</td>\n",
              "      <td>1051040000</td>\n",
              "      <td>1066790000</td>\n",
              "      <td>1084035000</td>\n",
              "      <td>1101630000</td>\n",
              "      <td>1118650000</td>\n",
              "      <td>1135185000</td>\n",
              "      <td>1150780000</td>\n",
              "      <td>1164970000</td>\n",
              "      <td>1178440000</td>\n",
              "      <td>1191835000</td>\n",
              "      <td>1204855000</td>\n",
              "      <td>1217550000</td>\n",
              "      <td>1230075000</td>\n",
              "      <td>1241935000</td>\n",
              "      <td>1252735000</td>\n",
              "      <td>1262645000</td>\n",
              "      <td>1271850000</td>\n",
              "      <td>1280400000</td>\n",
              "      <td>1288400000</td>\n",
              "      <td>1296075000</td>\n",
              "      <td>1303720000</td>\n",
              "      <td>1311020000</td>\n",
              "      <td>1317885000</td>\n",
              "      <td>1324655000</td>\n",
              "      <td>1331260000</td>\n",
              "      <td>1337705000</td>\n",
              "      <td>1344130000</td>\n",
              "      <td>1350695000</td>\n",
              "      <td>1357380000</td>\n",
              "      <td>1364270000</td>\n",
              "      <td>1371220000</td>\n",
              "      <td>1378665000</td>\n",
              "      <td>1386395000</td>\n",
              "      <td>1392730000</td>\n",
              "      <td>1397715000</td>\n",
              "    </tr>\n",
              "    <tr>\n",
              "      <th>1</th>\n",
              "      <td>Czech Republic</td>\n",
              "      <td>10304193</td>\n",
              "      <td>10300591</td>\n",
              "      <td>10314826</td>\n",
              "      <td>10323856</td>\n",
              "      <td>10330213</td>\n",
              "      <td>10337118</td>\n",
              "      <td>10342227</td>\n",
              "      <td>10347318</td>\n",
              "      <td>10355276</td>\n",
              "      <td>10361068</td>\n",
              "      <td>10333355</td>\n",
              "      <td>10308578</td>\n",
              "      <td>10319123</td>\n",
              "      <td>10329855</td>\n",
              "      <td>10333587</td>\n",
              "      <td>10327253</td>\n",
              "      <td>10315241</td>\n",
              "      <td>10304131</td>\n",
              "      <td>10294373</td>\n",
              "      <td>10283860</td>\n",
              "      <td>10255063</td>\n",
              "      <td>10216605</td>\n",
              "      <td>10196916</td>\n",
              "      <td>10193998</td>\n",
              "      <td>10197101</td>\n",
              "      <td>10211216</td>\n",
              "      <td>10238905</td>\n",
              "      <td>10298828</td>\n",
              "      <td>10384603</td>\n",
              "      <td>10443936</td>\n",
              "      <td>10474410</td>\n",
              "      <td>10496088</td>\n",
              "      <td>10510785</td>\n",
              "      <td>10514272</td>\n",
              "      <td>10525347</td>\n",
              "      <td>10546059</td>\n",
              "      <td>10566332</td>\n",
              "      <td>10594438</td>\n",
              "      <td>10629928</td>\n",
              "      <td>10669709</td>\n",
              "    </tr>\n",
              "    <tr>\n",
              "      <th>2</th>\n",
              "      <td>United Kingdom</td>\n",
              "      <td>56314216</td>\n",
              "      <td>56333829</td>\n",
              "      <td>56313641</td>\n",
              "      <td>56332848</td>\n",
              "      <td>56422072</td>\n",
              "      <td>56550268</td>\n",
              "      <td>56681396</td>\n",
              "      <td>56802050</td>\n",
              "      <td>56928327</td>\n",
              "      <td>57076711</td>\n",
              "      <td>57247586</td>\n",
              "      <td>57424897</td>\n",
              "      <td>57580402</td>\n",
              "      <td>57718614</td>\n",
              "      <td>57865745</td>\n",
              "      <td>58019030</td>\n",
              "      <td>58166950</td>\n",
              "      <td>58316954</td>\n",
              "      <td>58487141</td>\n",
              "      <td>58682466</td>\n",
              "      <td>58892514</td>\n",
              "      <td>59119673</td>\n",
              "      <td>59370479</td>\n",
              "      <td>59647577</td>\n",
              "      <td>59987905</td>\n",
              "      <td>60401206</td>\n",
              "      <td>60846820</td>\n",
              "      <td>61322463</td>\n",
              "      <td>61806995</td>\n",
              "      <td>62276270</td>\n",
              "      <td>62766365</td>\n",
              "      <td>63258810</td>\n",
              "      <td>63700215</td>\n",
              "      <td>64128273</td>\n",
              "      <td>64602298</td>\n",
              "      <td>65116219</td>\n",
              "      <td>65611593</td>\n",
              "      <td>66058859</td>\n",
              "      <td>66460344</td>\n",
              "      <td>66834405</td>\n",
              "    </tr>\n",
              "    <tr>\n",
              "      <th>3</th>\n",
              "      <td>Korea, Rep.</td>\n",
              "      <td>38123775</td>\n",
              "      <td>38723248</td>\n",
              "      <td>39326352</td>\n",
              "      <td>39910403</td>\n",
              "      <td>40405956</td>\n",
              "      <td>40805744</td>\n",
              "      <td>41213674</td>\n",
              "      <td>41621690</td>\n",
              "      <td>42031247</td>\n",
              "      <td>42449038</td>\n",
              "      <td>42869283</td>\n",
              "      <td>43295704</td>\n",
              "      <td>43747962</td>\n",
              "      <td>44194628</td>\n",
              "      <td>44641540</td>\n",
              "      <td>45092991</td>\n",
              "      <td>45524681</td>\n",
              "      <td>45953580</td>\n",
              "      <td>46286503</td>\n",
              "      <td>46616677</td>\n",
              "      <td>47008111</td>\n",
              "      <td>47370164</td>\n",
              "      <td>47644736</td>\n",
              "      <td>47892330</td>\n",
              "      <td>48082519</td>\n",
              "      <td>48184561</td>\n",
              "      <td>48438292</td>\n",
              "      <td>48683638</td>\n",
              "      <td>49054708</td>\n",
              "      <td>49307835</td>\n",
              "      <td>49554112</td>\n",
              "      <td>49936638</td>\n",
              "      <td>50199853</td>\n",
              "      <td>50428893</td>\n",
              "      <td>50746659</td>\n",
              "      <td>51014947</td>\n",
              "      <td>51217803</td>\n",
              "      <td>51361911</td>\n",
              "      <td>51606633</td>\n",
              "      <td>51709098</td>\n",
              "    </tr>\n",
              "    <tr>\n",
              "      <th>4</th>\n",
              "      <td>United States</td>\n",
              "      <td>227225000</td>\n",
              "      <td>229466000</td>\n",
              "      <td>231664000</td>\n",
              "      <td>233792000</td>\n",
              "      <td>235825000</td>\n",
              "      <td>237924000</td>\n",
              "      <td>240133000</td>\n",
              "      <td>242289000</td>\n",
              "      <td>244499000</td>\n",
              "      <td>246819000</td>\n",
              "      <td>249623000</td>\n",
              "      <td>252981000</td>\n",
              "      <td>256514000</td>\n",
              "      <td>259919000</td>\n",
              "      <td>263126000</td>\n",
              "      <td>266278000</td>\n",
              "      <td>269394000</td>\n",
              "      <td>272657000</td>\n",
              "      <td>275854000</td>\n",
              "      <td>279040000</td>\n",
              "      <td>282162411</td>\n",
              "      <td>284968955</td>\n",
              "      <td>287625193</td>\n",
              "      <td>290107933</td>\n",
              "      <td>292805298</td>\n",
              "      <td>295516599</td>\n",
              "      <td>298379912</td>\n",
              "      <td>301231207</td>\n",
              "      <td>304093966</td>\n",
              "      <td>306771529</td>\n",
              "      <td>309321666</td>\n",
              "      <td>311556874</td>\n",
              "      <td>313830990</td>\n",
              "      <td>315993715</td>\n",
              "      <td>318301008</td>\n",
              "      <td>320635163</td>\n",
              "      <td>322941311</td>\n",
              "      <td>324985539</td>\n",
              "      <td>326687501</td>\n",
              "      <td>328239523</td>\n",
              "    </tr>\n",
              "  </tbody>\n",
              "</table>\n",
              "</div>"
            ],
            "text/plain": [
              "     Country Name       1980       1981  ...        2017        2018        2019\n",
              "0           China  981235000  993885000  ...  1386395000  1392730000  1397715000\n",
              "1  Czech Republic   10304193   10300591  ...    10594438    10629928    10669709\n",
              "2  United Kingdom   56314216   56333829  ...    66058859    66460344    66834405\n",
              "3     Korea, Rep.   38123775   38723248  ...    51361911    51606633    51709098\n",
              "4   United States  227225000  229466000  ...   324985539   326687501   328239523\n",
              "\n",
              "[5 rows x 41 columns]"
            ]
          },
          "metadata": {
            "tags": []
          },
          "execution_count": 17
        }
      ]
    },
    {
      "cell_type": "markdown",
      "metadata": {
        "id": "d6lYsoDPDie3",
        "colab_type": "text"
      },
      "source": [
        "\n",
        "\n",
        "### *    **이제 Wide Panel 데이터를 Long Format으로 바꾸어주고자 합니다.**\n"
      ]
    },
    {
      "cell_type": "code",
      "metadata": {
        "id": "wH1FQzivJlju",
        "colab_type": "code",
        "colab": {}
      },
      "source": [
        "long_population = pd.melt(population, id_vars=['Country Name'],var_name='Year', value_name='Population')"
      ],
      "execution_count": 42,
      "outputs": []
    },
    {
      "cell_type": "code",
      "metadata": {
        "id": "n7vW6T41K8IO",
        "colab_type": "code",
        "colab": {
          "base_uri": "https://localhost:8080/",
          "height": 343
        },
        "outputId": "d431d54c-3b7f-439f-eaf1-8015711b4b7f"
      },
      "source": [
        "long_population.head(10)"
      ],
      "execution_count": 43,
      "outputs": [
        {
          "output_type": "execute_result",
          "data": {
            "text/html": [
              "<div>\n",
              "<style scoped>\n",
              "    .dataframe tbody tr th:only-of-type {\n",
              "        vertical-align: middle;\n",
              "    }\n",
              "\n",
              "    .dataframe tbody tr th {\n",
              "        vertical-align: top;\n",
              "    }\n",
              "\n",
              "    .dataframe thead th {\n",
              "        text-align: right;\n",
              "    }\n",
              "</style>\n",
              "<table border=\"1\" class=\"dataframe\">\n",
              "  <thead>\n",
              "    <tr style=\"text-align: right;\">\n",
              "      <th></th>\n",
              "      <th>Country Name</th>\n",
              "      <th>Year</th>\n",
              "      <th>Population</th>\n",
              "    </tr>\n",
              "  </thead>\n",
              "  <tbody>\n",
              "    <tr>\n",
              "      <th>0</th>\n",
              "      <td>China</td>\n",
              "      <td>1980</td>\n",
              "      <td>981235000</td>\n",
              "    </tr>\n",
              "    <tr>\n",
              "      <th>1</th>\n",
              "      <td>Czech Republic</td>\n",
              "      <td>1980</td>\n",
              "      <td>10304193</td>\n",
              "    </tr>\n",
              "    <tr>\n",
              "      <th>2</th>\n",
              "      <td>United Kingdom</td>\n",
              "      <td>1980</td>\n",
              "      <td>56314216</td>\n",
              "    </tr>\n",
              "    <tr>\n",
              "      <th>3</th>\n",
              "      <td>Korea, Rep.</td>\n",
              "      <td>1980</td>\n",
              "      <td>38123775</td>\n",
              "    </tr>\n",
              "    <tr>\n",
              "      <th>4</th>\n",
              "      <td>United States</td>\n",
              "      <td>1980</td>\n",
              "      <td>227225000</td>\n",
              "    </tr>\n",
              "    <tr>\n",
              "      <th>5</th>\n",
              "      <td>China</td>\n",
              "      <td>1981</td>\n",
              "      <td>993885000</td>\n",
              "    </tr>\n",
              "    <tr>\n",
              "      <th>6</th>\n",
              "      <td>Czech Republic</td>\n",
              "      <td>1981</td>\n",
              "      <td>10300591</td>\n",
              "    </tr>\n",
              "    <tr>\n",
              "      <th>7</th>\n",
              "      <td>United Kingdom</td>\n",
              "      <td>1981</td>\n",
              "      <td>56333829</td>\n",
              "    </tr>\n",
              "    <tr>\n",
              "      <th>8</th>\n",
              "      <td>Korea, Rep.</td>\n",
              "      <td>1981</td>\n",
              "      <td>38723248</td>\n",
              "    </tr>\n",
              "    <tr>\n",
              "      <th>9</th>\n",
              "      <td>United States</td>\n",
              "      <td>1981</td>\n",
              "      <td>229466000</td>\n",
              "    </tr>\n",
              "  </tbody>\n",
              "</table>\n",
              "</div>"
            ],
            "text/plain": [
              "     Country Name  Year  Population\n",
              "0           China  1980   981235000\n",
              "1  Czech Republic  1980    10304193\n",
              "2  United Kingdom  1980    56314216\n",
              "3     Korea, Rep.  1980    38123775\n",
              "4   United States  1980   227225000\n",
              "5           China  1981   993885000\n",
              "6  Czech Republic  1981    10300591\n",
              "7  United Kingdom  1981    56333829\n",
              "8     Korea, Rep.  1981    38723248\n",
              "9   United States  1981   229466000"
            ]
          },
          "metadata": {
            "tags": []
          },
          "execution_count": 43
        }
      ]
    },
    {
      "cell_type": "markdown",
      "metadata": {
        "id": "vQz4pvJcQplW",
        "colab_type": "text"
      },
      "source": [
        " \n",
        "\n",
        "---\n",
        "\n",
        "\n",
        "\n",
        "\n"
      ]
    },
    {
      "cell_type": "markdown",
      "metadata": {
        "id": "mCcK7tsKQbf2",
        "colab_type": "text"
      },
      "source": [
        "마찬가지로, 이제 GDP(국내총생산)와 NATO 가입 여부 데이터도 가져와서 표의 형태를 동일한 방식으로 변환합시다."
      ]
    },
    {
      "cell_type": "code",
      "metadata": {
        "id": "cZxj4Pb5QZ4X",
        "colab_type": "code",
        "colab": {}
      },
      "source": [
        "\n",
        "# GDP(국내총생산) 데이터를 불러온 후, wide format을 long format으로 바꾸어줍니다.\n",
        "gdp = pd.read_csv('/content/gdp.csv', engine='python')\n",
        "long_gdp = pd.melt(gdp, id_vars=['Country Name'],var_name='Year', value_name='GDP')\n",
        "\n",
        "\n",
        "# NATO 가입여부 데이터를 불러온 후, wide format을 long format으로 바꾸어줍니다.\n",
        "nato = pd.read_csv('/content/nato.csv', engine='python')\n",
        "long_nato = pd.melt(nato, id_vars=['Country Name'],var_name='Year', value_name='NATO Membership')\n",
        "\n",
        "\n",
        "#참고로 두 데이터는 어떻게 생겼을까요? 아래에서 잠시 출력을 해봅니다."
      ],
      "execution_count": 35,
      "outputs": []
    },
    {
      "cell_type": "code",
      "metadata": {
        "id": "oCiFzUyUTDXb",
        "colab_type": "code",
        "colab": {
          "base_uri": "https://localhost:8080/",
          "height": 343
        },
        "outputId": "2ef618f9-d673-4981-c2bd-053ac3f54302"
      },
      "source": [
        "long_gdp.head(10)"
      ],
      "execution_count": 36,
      "outputs": [
        {
          "output_type": "execute_result",
          "data": {
            "text/html": [
              "<div>\n",
              "<style scoped>\n",
              "    .dataframe tbody tr th:only-of-type {\n",
              "        vertical-align: middle;\n",
              "    }\n",
              "\n",
              "    .dataframe tbody tr th {\n",
              "        vertical-align: top;\n",
              "    }\n",
              "\n",
              "    .dataframe thead th {\n",
              "        text-align: right;\n",
              "    }\n",
              "</style>\n",
              "<table border=\"1\" class=\"dataframe\">\n",
              "  <thead>\n",
              "    <tr style=\"text-align: right;\">\n",
              "      <th></th>\n",
              "      <th>Country Name</th>\n",
              "      <th>Year</th>\n",
              "      <th>GDP</th>\n",
              "    </tr>\n",
              "  </thead>\n",
              "  <tbody>\n",
              "    <tr>\n",
              "      <th>0</th>\n",
              "      <td>China</td>\n",
              "      <td>1980</td>\n",
              "      <td>1.911490e+11</td>\n",
              "    </tr>\n",
              "    <tr>\n",
              "      <th>1</th>\n",
              "      <td>Czech Republic</td>\n",
              "      <td>1980</td>\n",
              "      <td>NaN</td>\n",
              "    </tr>\n",
              "    <tr>\n",
              "      <th>2</th>\n",
              "      <td>United Kingdom</td>\n",
              "      <td>1980</td>\n",
              "      <td>5.649480e+11</td>\n",
              "    </tr>\n",
              "    <tr>\n",
              "      <th>3</th>\n",
              "      <td>Korea, Rep.</td>\n",
              "      <td>1980</td>\n",
              "      <td>6.539860e+10</td>\n",
              "    </tr>\n",
              "    <tr>\n",
              "      <th>4</th>\n",
              "      <td>United States</td>\n",
              "      <td>1980</td>\n",
              "      <td>2.857310e+12</td>\n",
              "    </tr>\n",
              "    <tr>\n",
              "      <th>5</th>\n",
              "      <td>China</td>\n",
              "      <td>1981</td>\n",
              "      <td>1.958660e+11</td>\n",
              "    </tr>\n",
              "    <tr>\n",
              "      <th>6</th>\n",
              "      <td>Czech Republic</td>\n",
              "      <td>1981</td>\n",
              "      <td>NaN</td>\n",
              "    </tr>\n",
              "    <tr>\n",
              "      <th>7</th>\n",
              "      <td>United Kingdom</td>\n",
              "      <td>1981</td>\n",
              "      <td>5.407660e+11</td>\n",
              "    </tr>\n",
              "    <tr>\n",
              "      <th>8</th>\n",
              "      <td>Korea, Rep.</td>\n",
              "      <td>1981</td>\n",
              "      <td>7.293340e+10</td>\n",
              "    </tr>\n",
              "    <tr>\n",
              "      <th>9</th>\n",
              "      <td>United States</td>\n",
              "      <td>1981</td>\n",
              "      <td>3.207040e+12</td>\n",
              "    </tr>\n",
              "  </tbody>\n",
              "</table>\n",
              "</div>"
            ],
            "text/plain": [
              "     Country Name  Year           GDP\n",
              "0           China  1980  1.911490e+11\n",
              "1  Czech Republic  1980           NaN\n",
              "2  United Kingdom  1980  5.649480e+11\n",
              "3     Korea, Rep.  1980  6.539860e+10\n",
              "4   United States  1980  2.857310e+12\n",
              "5           China  1981  1.958660e+11\n",
              "6  Czech Republic  1981           NaN\n",
              "7  United Kingdom  1981  5.407660e+11\n",
              "8     Korea, Rep.  1981  7.293340e+10\n",
              "9   United States  1981  3.207040e+12"
            ]
          },
          "metadata": {
            "tags": []
          },
          "execution_count": 36
        }
      ]
    },
    {
      "cell_type": "code",
      "metadata": {
        "id": "WHHesZ65Tm3Q",
        "colab_type": "code",
        "colab": {
          "base_uri": "https://localhost:8080/",
          "height": 343
        },
        "outputId": "3e2109df-dfce-4913-e4c4-f41e6f8fcde7"
      },
      "source": [
        "long_nato.head(10)"
      ],
      "execution_count": 37,
      "outputs": [
        {
          "output_type": "execute_result",
          "data": {
            "text/html": [
              "<div>\n",
              "<style scoped>\n",
              "    .dataframe tbody tr th:only-of-type {\n",
              "        vertical-align: middle;\n",
              "    }\n",
              "\n",
              "    .dataframe tbody tr th {\n",
              "        vertical-align: top;\n",
              "    }\n",
              "\n",
              "    .dataframe thead th {\n",
              "        text-align: right;\n",
              "    }\n",
              "</style>\n",
              "<table border=\"1\" class=\"dataframe\">\n",
              "  <thead>\n",
              "    <tr style=\"text-align: right;\">\n",
              "      <th></th>\n",
              "      <th>Country Name</th>\n",
              "      <th>Year</th>\n",
              "      <th>NATO Membership</th>\n",
              "    </tr>\n",
              "  </thead>\n",
              "  <tbody>\n",
              "    <tr>\n",
              "      <th>0</th>\n",
              "      <td>China</td>\n",
              "      <td>1980</td>\n",
              "      <td>1</td>\n",
              "    </tr>\n",
              "    <tr>\n",
              "      <th>1</th>\n",
              "      <td>Czech Republic</td>\n",
              "      <td>1980</td>\n",
              "      <td>1</td>\n",
              "    </tr>\n",
              "    <tr>\n",
              "      <th>2</th>\n",
              "      <td>United Kingdom</td>\n",
              "      <td>1980</td>\n",
              "      <td>2</td>\n",
              "    </tr>\n",
              "    <tr>\n",
              "      <th>3</th>\n",
              "      <td>Korea, Rep.</td>\n",
              "      <td>1980</td>\n",
              "      <td>1</td>\n",
              "    </tr>\n",
              "    <tr>\n",
              "      <th>4</th>\n",
              "      <td>United States</td>\n",
              "      <td>1980</td>\n",
              "      <td>2</td>\n",
              "    </tr>\n",
              "    <tr>\n",
              "      <th>5</th>\n",
              "      <td>China</td>\n",
              "      <td>1981</td>\n",
              "      <td>1</td>\n",
              "    </tr>\n",
              "    <tr>\n",
              "      <th>6</th>\n",
              "      <td>Czech Republic</td>\n",
              "      <td>1981</td>\n",
              "      <td>1</td>\n",
              "    </tr>\n",
              "    <tr>\n",
              "      <th>7</th>\n",
              "      <td>United Kingdom</td>\n",
              "      <td>1981</td>\n",
              "      <td>2</td>\n",
              "    </tr>\n",
              "    <tr>\n",
              "      <th>8</th>\n",
              "      <td>Korea, Rep.</td>\n",
              "      <td>1981</td>\n",
              "      <td>1</td>\n",
              "    </tr>\n",
              "    <tr>\n",
              "      <th>9</th>\n",
              "      <td>United States</td>\n",
              "      <td>1981</td>\n",
              "      <td>2</td>\n",
              "    </tr>\n",
              "  </tbody>\n",
              "</table>\n",
              "</div>"
            ],
            "text/plain": [
              "     Country Name  Year  NATO Membership\n",
              "0           China  1980                1\n",
              "1  Czech Republic  1980                1\n",
              "2  United Kingdom  1980                2\n",
              "3     Korea, Rep.  1980                1\n",
              "4   United States  1980                2\n",
              "5           China  1981                1\n",
              "6  Czech Republic  1981                1\n",
              "7  United Kingdom  1981                2\n",
              "8     Korea, Rep.  1981                1\n",
              "9   United States  1981                2"
            ]
          },
          "metadata": {
            "tags": []
          },
          "execution_count": 37
        }
      ]
    },
    {
      "cell_type": "markdown",
      "metadata": {
        "id": "cE1XBUVUUC6v",
        "colab_type": "text"
      },
      "source": [
        "\n",
        "\n",
        "# **2. Pandas로 여러 개의 데이터 파일을 하나로 병합하기**\n",
        "\n"
      ]
    },
    {
      "cell_type": "code",
      "metadata": {
        "id": "etSyyviNUIIN",
        "colab_type": "code",
        "colab": {}
      },
      "source": [
        "combined_1 = long_population.merge(long_gdp, on=['Country Name', 'Year'])"
      ],
      "execution_count": 54,
      "outputs": []
    },
    {
      "cell_type": "code",
      "metadata": {
        "id": "aUdS-OAdVFWI",
        "colab_type": "code",
        "colab": {
          "base_uri": "https://localhost:8080/",
          "height": 343
        },
        "outputId": "07e13553-efc6-476d-d7b5-e2ab1f0c06d9"
      },
      "source": [
        "combined_1.head(10)"
      ],
      "execution_count": 55,
      "outputs": [
        {
          "output_type": "execute_result",
          "data": {
            "text/html": [
              "<div>\n",
              "<style scoped>\n",
              "    .dataframe tbody tr th:only-of-type {\n",
              "        vertical-align: middle;\n",
              "    }\n",
              "\n",
              "    .dataframe tbody tr th {\n",
              "        vertical-align: top;\n",
              "    }\n",
              "\n",
              "    .dataframe thead th {\n",
              "        text-align: right;\n",
              "    }\n",
              "</style>\n",
              "<table border=\"1\" class=\"dataframe\">\n",
              "  <thead>\n",
              "    <tr style=\"text-align: right;\">\n",
              "      <th></th>\n",
              "      <th>Country Name</th>\n",
              "      <th>Year</th>\n",
              "      <th>Population</th>\n",
              "      <th>GDP</th>\n",
              "    </tr>\n",
              "  </thead>\n",
              "  <tbody>\n",
              "    <tr>\n",
              "      <th>0</th>\n",
              "      <td>China</td>\n",
              "      <td>1980</td>\n",
              "      <td>981235000</td>\n",
              "      <td>1.911490e+11</td>\n",
              "    </tr>\n",
              "    <tr>\n",
              "      <th>1</th>\n",
              "      <td>Czech Republic</td>\n",
              "      <td>1980</td>\n",
              "      <td>10304193</td>\n",
              "      <td>NaN</td>\n",
              "    </tr>\n",
              "    <tr>\n",
              "      <th>2</th>\n",
              "      <td>United Kingdom</td>\n",
              "      <td>1980</td>\n",
              "      <td>56314216</td>\n",
              "      <td>5.649480e+11</td>\n",
              "    </tr>\n",
              "    <tr>\n",
              "      <th>3</th>\n",
              "      <td>Korea, Rep.</td>\n",
              "      <td>1980</td>\n",
              "      <td>38123775</td>\n",
              "      <td>6.539860e+10</td>\n",
              "    </tr>\n",
              "    <tr>\n",
              "      <th>4</th>\n",
              "      <td>United States</td>\n",
              "      <td>1980</td>\n",
              "      <td>227225000</td>\n",
              "      <td>2.857310e+12</td>\n",
              "    </tr>\n",
              "    <tr>\n",
              "      <th>5</th>\n",
              "      <td>China</td>\n",
              "      <td>1981</td>\n",
              "      <td>993885000</td>\n",
              "      <td>1.958660e+11</td>\n",
              "    </tr>\n",
              "    <tr>\n",
              "      <th>6</th>\n",
              "      <td>Czech Republic</td>\n",
              "      <td>1981</td>\n",
              "      <td>10300591</td>\n",
              "      <td>NaN</td>\n",
              "    </tr>\n",
              "    <tr>\n",
              "      <th>7</th>\n",
              "      <td>United Kingdom</td>\n",
              "      <td>1981</td>\n",
              "      <td>56333829</td>\n",
              "      <td>5.407660e+11</td>\n",
              "    </tr>\n",
              "    <tr>\n",
              "      <th>8</th>\n",
              "      <td>Korea, Rep.</td>\n",
              "      <td>1981</td>\n",
              "      <td>38723248</td>\n",
              "      <td>7.293340e+10</td>\n",
              "    </tr>\n",
              "    <tr>\n",
              "      <th>9</th>\n",
              "      <td>United States</td>\n",
              "      <td>1981</td>\n",
              "      <td>229466000</td>\n",
              "      <td>3.207040e+12</td>\n",
              "    </tr>\n",
              "  </tbody>\n",
              "</table>\n",
              "</div>"
            ],
            "text/plain": [
              "     Country Name  Year  Population           GDP\n",
              "0           China  1980   981235000  1.911490e+11\n",
              "1  Czech Republic  1980    10304193           NaN\n",
              "2  United Kingdom  1980    56314216  5.649480e+11\n",
              "3     Korea, Rep.  1980    38123775  6.539860e+10\n",
              "4   United States  1980   227225000  2.857310e+12\n",
              "5           China  1981   993885000  1.958660e+11\n",
              "6  Czech Republic  1981    10300591           NaN\n",
              "7  United Kingdom  1981    56333829  5.407660e+11\n",
              "8     Korea, Rep.  1981    38723248  7.293340e+10\n",
              "9   United States  1981   229466000  3.207040e+12"
            ]
          },
          "metadata": {
            "tags": []
          },
          "execution_count": 55
        }
      ]
    },
    {
      "cell_type": "code",
      "metadata": {
        "colab_type": "code",
        "id": "exz-TH47Xxob",
        "colab": {}
      },
      "source": [
        "combined_2 = combined_1.merge(long_nato, on=['Country Name', 'Year'])"
      ],
      "execution_count": 56,
      "outputs": []
    },
    {
      "cell_type": "code",
      "metadata": {
        "id": "-YJSrTYiX34f",
        "colab_type": "code",
        "colab": {
          "base_uri": "https://localhost:8080/",
          "height": 373
        },
        "outputId": "a5170207-d24b-4528-fa4a-9d48a9a36a6a"
      },
      "source": [
        "combined_2.head(10)"
      ],
      "execution_count": 117,
      "outputs": [
        {
          "output_type": "execute_result",
          "data": {
            "text/html": [
              "<div>\n",
              "<style scoped>\n",
              "    .dataframe tbody tr th:only-of-type {\n",
              "        vertical-align: middle;\n",
              "    }\n",
              "\n",
              "    .dataframe tbody tr th {\n",
              "        vertical-align: top;\n",
              "    }\n",
              "\n",
              "    .dataframe thead th {\n",
              "        text-align: right;\n",
              "    }\n",
              "</style>\n",
              "<table border=\"1\" class=\"dataframe\">\n",
              "  <thead>\n",
              "    <tr style=\"text-align: right;\">\n",
              "      <th></th>\n",
              "      <th>Country Name</th>\n",
              "      <th>Population</th>\n",
              "      <th>GDP</th>\n",
              "      <th>NATO Membership</th>\n",
              "    </tr>\n",
              "    <tr>\n",
              "      <th>Year</th>\n",
              "      <th></th>\n",
              "      <th></th>\n",
              "      <th></th>\n",
              "      <th></th>\n",
              "    </tr>\n",
              "  </thead>\n",
              "  <tbody>\n",
              "    <tr>\n",
              "      <th>1980-01-01</th>\n",
              "      <td>China</td>\n",
              "      <td>981235000</td>\n",
              "      <td>1.911490e+11</td>\n",
              "      <td>1</td>\n",
              "    </tr>\n",
              "    <tr>\n",
              "      <th>1980-01-01</th>\n",
              "      <td>Czech Republic</td>\n",
              "      <td>10304193</td>\n",
              "      <td>NaN</td>\n",
              "      <td>1</td>\n",
              "    </tr>\n",
              "    <tr>\n",
              "      <th>1980-01-01</th>\n",
              "      <td>United Kingdom</td>\n",
              "      <td>56314216</td>\n",
              "      <td>5.649480e+11</td>\n",
              "      <td>2</td>\n",
              "    </tr>\n",
              "    <tr>\n",
              "      <th>1980-01-01</th>\n",
              "      <td>Korea, Rep.</td>\n",
              "      <td>38123775</td>\n",
              "      <td>6.539860e+10</td>\n",
              "      <td>1</td>\n",
              "    </tr>\n",
              "    <tr>\n",
              "      <th>1980-01-01</th>\n",
              "      <td>United States</td>\n",
              "      <td>227225000</td>\n",
              "      <td>2.857310e+12</td>\n",
              "      <td>2</td>\n",
              "    </tr>\n",
              "    <tr>\n",
              "      <th>1981-01-01</th>\n",
              "      <td>China</td>\n",
              "      <td>993885000</td>\n",
              "      <td>1.958660e+11</td>\n",
              "      <td>1</td>\n",
              "    </tr>\n",
              "    <tr>\n",
              "      <th>1981-01-01</th>\n",
              "      <td>Czech Republic</td>\n",
              "      <td>10300591</td>\n",
              "      <td>NaN</td>\n",
              "      <td>1</td>\n",
              "    </tr>\n",
              "    <tr>\n",
              "      <th>1981-01-01</th>\n",
              "      <td>United Kingdom</td>\n",
              "      <td>56333829</td>\n",
              "      <td>5.407660e+11</td>\n",
              "      <td>2</td>\n",
              "    </tr>\n",
              "    <tr>\n",
              "      <th>1981-01-01</th>\n",
              "      <td>Korea, Rep.</td>\n",
              "      <td>38723248</td>\n",
              "      <td>7.293340e+10</td>\n",
              "      <td>1</td>\n",
              "    </tr>\n",
              "    <tr>\n",
              "      <th>1981-01-01</th>\n",
              "      <td>United States</td>\n",
              "      <td>229466000</td>\n",
              "      <td>3.207040e+12</td>\n",
              "      <td>2</td>\n",
              "    </tr>\n",
              "  </tbody>\n",
              "</table>\n",
              "</div>"
            ],
            "text/plain": [
              "              Country Name  Population           GDP  NATO Membership\n",
              "Year                                                                 \n",
              "1980-01-01           China   981235000  1.911490e+11                1\n",
              "1980-01-01  Czech Republic    10304193           NaN                1\n",
              "1980-01-01  United Kingdom    56314216  5.649480e+11                2\n",
              "1980-01-01     Korea, Rep.    38123775  6.539860e+10                1\n",
              "1980-01-01   United States   227225000  2.857310e+12                2\n",
              "1981-01-01           China   993885000  1.958660e+11                1\n",
              "1981-01-01  Czech Republic    10300591           NaN                1\n",
              "1981-01-01  United Kingdom    56333829  5.407660e+11                2\n",
              "1981-01-01     Korea, Rep.    38723248  7.293340e+10                1\n",
              "1981-01-01   United States   229466000  3.207040e+12                2"
            ]
          },
          "metadata": {
            "tags": []
          },
          "execution_count": 117
        }
      ]
    },
    {
      "cell_type": "code",
      "metadata": {
        "id": "w96X55wFy4et",
        "colab_type": "code",
        "colab": {}
      },
      "source": [
        "combined_2.loc[combined_2['NATO Membership'] == 1, 'NATO Membership'] = 0\n",
        "combined_2.loc[combined_2['NATO Membership'] == 2, 'NATO Membership'] = 1"
      ],
      "execution_count": 118,
      "outputs": []
    },
    {
      "cell_type": "code",
      "metadata": {
        "id": "zWnH7JeGzjzo",
        "colab_type": "code",
        "colab": {
          "base_uri": "https://localhost:8080/",
          "height": 373
        },
        "outputId": "23e18594-b284-4864-9c00-b026eb43d128"
      },
      "source": [
        "combined_2.head(10)"
      ],
      "execution_count": 119,
      "outputs": [
        {
          "output_type": "execute_result",
          "data": {
            "text/html": [
              "<div>\n",
              "<style scoped>\n",
              "    .dataframe tbody tr th:only-of-type {\n",
              "        vertical-align: middle;\n",
              "    }\n",
              "\n",
              "    .dataframe tbody tr th {\n",
              "        vertical-align: top;\n",
              "    }\n",
              "\n",
              "    .dataframe thead th {\n",
              "        text-align: right;\n",
              "    }\n",
              "</style>\n",
              "<table border=\"1\" class=\"dataframe\">\n",
              "  <thead>\n",
              "    <tr style=\"text-align: right;\">\n",
              "      <th></th>\n",
              "      <th>Country Name</th>\n",
              "      <th>Population</th>\n",
              "      <th>GDP</th>\n",
              "      <th>NATO Membership</th>\n",
              "    </tr>\n",
              "    <tr>\n",
              "      <th>Year</th>\n",
              "      <th></th>\n",
              "      <th></th>\n",
              "      <th></th>\n",
              "      <th></th>\n",
              "    </tr>\n",
              "  </thead>\n",
              "  <tbody>\n",
              "    <tr>\n",
              "      <th>1980-01-01</th>\n",
              "      <td>China</td>\n",
              "      <td>981235000</td>\n",
              "      <td>1.911490e+11</td>\n",
              "      <td>0</td>\n",
              "    </tr>\n",
              "    <tr>\n",
              "      <th>1980-01-01</th>\n",
              "      <td>Czech Republic</td>\n",
              "      <td>10304193</td>\n",
              "      <td>NaN</td>\n",
              "      <td>0</td>\n",
              "    </tr>\n",
              "    <tr>\n",
              "      <th>1980-01-01</th>\n",
              "      <td>United Kingdom</td>\n",
              "      <td>56314216</td>\n",
              "      <td>5.649480e+11</td>\n",
              "      <td>1</td>\n",
              "    </tr>\n",
              "    <tr>\n",
              "      <th>1980-01-01</th>\n",
              "      <td>Korea, Rep.</td>\n",
              "      <td>38123775</td>\n",
              "      <td>6.539860e+10</td>\n",
              "      <td>0</td>\n",
              "    </tr>\n",
              "    <tr>\n",
              "      <th>1980-01-01</th>\n",
              "      <td>United States</td>\n",
              "      <td>227225000</td>\n",
              "      <td>2.857310e+12</td>\n",
              "      <td>1</td>\n",
              "    </tr>\n",
              "    <tr>\n",
              "      <th>1981-01-01</th>\n",
              "      <td>China</td>\n",
              "      <td>993885000</td>\n",
              "      <td>1.958660e+11</td>\n",
              "      <td>0</td>\n",
              "    </tr>\n",
              "    <tr>\n",
              "      <th>1981-01-01</th>\n",
              "      <td>Czech Republic</td>\n",
              "      <td>10300591</td>\n",
              "      <td>NaN</td>\n",
              "      <td>0</td>\n",
              "    </tr>\n",
              "    <tr>\n",
              "      <th>1981-01-01</th>\n",
              "      <td>United Kingdom</td>\n",
              "      <td>56333829</td>\n",
              "      <td>5.407660e+11</td>\n",
              "      <td>1</td>\n",
              "    </tr>\n",
              "    <tr>\n",
              "      <th>1981-01-01</th>\n",
              "      <td>Korea, Rep.</td>\n",
              "      <td>38723248</td>\n",
              "      <td>7.293340e+10</td>\n",
              "      <td>0</td>\n",
              "    </tr>\n",
              "    <tr>\n",
              "      <th>1981-01-01</th>\n",
              "      <td>United States</td>\n",
              "      <td>229466000</td>\n",
              "      <td>3.207040e+12</td>\n",
              "      <td>1</td>\n",
              "    </tr>\n",
              "  </tbody>\n",
              "</table>\n",
              "</div>"
            ],
            "text/plain": [
              "              Country Name  Population           GDP  NATO Membership\n",
              "Year                                                                 \n",
              "1980-01-01           China   981235000  1.911490e+11                0\n",
              "1980-01-01  Czech Republic    10304193           NaN                0\n",
              "1980-01-01  United Kingdom    56314216  5.649480e+11                1\n",
              "1980-01-01     Korea, Rep.    38123775  6.539860e+10                0\n",
              "1980-01-01   United States   227225000  2.857310e+12                1\n",
              "1981-01-01           China   993885000  1.958660e+11                0\n",
              "1981-01-01  Czech Republic    10300591           NaN                0\n",
              "1981-01-01  United Kingdom    56333829  5.407660e+11                1\n",
              "1981-01-01     Korea, Rep.    38723248  7.293340e+10                0\n",
              "1981-01-01   United States   229466000  3.207040e+12                1"
            ]
          },
          "metadata": {
            "tags": []
          },
          "execution_count": 119
        }
      ]
    },
    {
      "cell_type": "markdown",
      "metadata": {
        "id": "6H5Oq38LYF8v",
        "colab_type": "text"
      },
      "source": [
        "# **3. Pyplot으로 그림 그리기**"
      ]
    },
    {
      "cell_type": "code",
      "metadata": {
        "id": "HpNFoSPemLDM",
        "colab_type": "code",
        "colab": {
          "base_uri": "https://localhost:8080/",
          "height": 375
        },
        "outputId": "bf6d8012-0259-4d7d-9146-66ae99d3c32b"
      },
      "source": [
        "combined_3 = combined_2.pivot_table(values=['Population', 'GDP', 'NATO Membership'],\n",
        "                                index='Year',\n",
        "                                columns=['Country Name'])\n",
        "combined_3.head()"
      ],
      "execution_count": 79,
      "outputs": [
        {
          "output_type": "execute_result",
          "data": {
            "text/html": [
              "<div>\n",
              "<style scoped>\n",
              "    .dataframe tbody tr th:only-of-type {\n",
              "        vertical-align: middle;\n",
              "    }\n",
              "\n",
              "    .dataframe tbody tr th {\n",
              "        vertical-align: top;\n",
              "    }\n",
              "\n",
              "    .dataframe thead tr th {\n",
              "        text-align: left;\n",
              "    }\n",
              "\n",
              "    .dataframe thead tr:last-of-type th {\n",
              "        text-align: right;\n",
              "    }\n",
              "</style>\n",
              "<table border=\"1\" class=\"dataframe\">\n",
              "  <thead>\n",
              "    <tr>\n",
              "      <th></th>\n",
              "      <th colspan=\"5\" halign=\"left\">GDP</th>\n",
              "      <th colspan=\"5\" halign=\"left\">NATO Membership</th>\n",
              "      <th colspan=\"5\" halign=\"left\">Population</th>\n",
              "    </tr>\n",
              "    <tr>\n",
              "      <th>Country Name</th>\n",
              "      <th>China</th>\n",
              "      <th>Czech Republic</th>\n",
              "      <th>Korea, Rep.</th>\n",
              "      <th>United Kingdom</th>\n",
              "      <th>United States</th>\n",
              "      <th>China</th>\n",
              "      <th>Czech Republic</th>\n",
              "      <th>Korea, Rep.</th>\n",
              "      <th>United Kingdom</th>\n",
              "      <th>United States</th>\n",
              "      <th>China</th>\n",
              "      <th>Czech Republic</th>\n",
              "      <th>Korea, Rep.</th>\n",
              "      <th>United Kingdom</th>\n",
              "      <th>United States</th>\n",
              "    </tr>\n",
              "    <tr>\n",
              "      <th>Year</th>\n",
              "      <th></th>\n",
              "      <th></th>\n",
              "      <th></th>\n",
              "      <th></th>\n",
              "      <th></th>\n",
              "      <th></th>\n",
              "      <th></th>\n",
              "      <th></th>\n",
              "      <th></th>\n",
              "      <th></th>\n",
              "      <th></th>\n",
              "      <th></th>\n",
              "      <th></th>\n",
              "      <th></th>\n",
              "      <th></th>\n",
              "    </tr>\n",
              "  </thead>\n",
              "  <tbody>\n",
              "    <tr>\n",
              "      <th>1980-01-01</th>\n",
              "      <td>1.911490e+11</td>\n",
              "      <td>NaN</td>\n",
              "      <td>6.539860e+10</td>\n",
              "      <td>5.649480e+11</td>\n",
              "      <td>2.857310e+12</td>\n",
              "      <td>1</td>\n",
              "      <td>1</td>\n",
              "      <td>1</td>\n",
              "      <td>2</td>\n",
              "      <td>2</td>\n",
              "      <td>981235000</td>\n",
              "      <td>10304193</td>\n",
              "      <td>38123775</td>\n",
              "      <td>56314216</td>\n",
              "      <td>227225000</td>\n",
              "    </tr>\n",
              "    <tr>\n",
              "      <th>1981-01-01</th>\n",
              "      <td>1.958660e+11</td>\n",
              "      <td>NaN</td>\n",
              "      <td>7.293340e+10</td>\n",
              "      <td>5.407660e+11</td>\n",
              "      <td>3.207040e+12</td>\n",
              "      <td>1</td>\n",
              "      <td>1</td>\n",
              "      <td>1</td>\n",
              "      <td>2</td>\n",
              "      <td>2</td>\n",
              "      <td>993885000</td>\n",
              "      <td>10300591</td>\n",
              "      <td>38723248</td>\n",
              "      <td>56333829</td>\n",
              "      <td>229466000</td>\n",
              "    </tr>\n",
              "    <tr>\n",
              "      <th>1982-01-01</th>\n",
              "      <td>2.050900e+11</td>\n",
              "      <td>NaN</td>\n",
              "      <td>7.835890e+10</td>\n",
              "      <td>5.150490e+11</td>\n",
              "      <td>3.343790e+12</td>\n",
              "      <td>1</td>\n",
              "      <td>1</td>\n",
              "      <td>1</td>\n",
              "      <td>2</td>\n",
              "      <td>2</td>\n",
              "      <td>1008630000</td>\n",
              "      <td>10314826</td>\n",
              "      <td>39326352</td>\n",
              "      <td>56313641</td>\n",
              "      <td>231664000</td>\n",
              "    </tr>\n",
              "    <tr>\n",
              "      <th>1983-01-01</th>\n",
              "      <td>2.306870e+11</td>\n",
              "      <td>NaN</td>\n",
              "      <td>8.776040e+10</td>\n",
              "      <td>4.896180e+11</td>\n",
              "      <td>3.634040e+12</td>\n",
              "      <td>1</td>\n",
              "      <td>1</td>\n",
              "      <td>1</td>\n",
              "      <td>2</td>\n",
              "      <td>2</td>\n",
              "      <td>1023310000</td>\n",
              "      <td>10323856</td>\n",
              "      <td>39910403</td>\n",
              "      <td>56332848</td>\n",
              "      <td>233792000</td>\n",
              "    </tr>\n",
              "    <tr>\n",
              "      <th>1984-01-01</th>\n",
              "      <td>2.599470e+11</td>\n",
              "      <td>NaN</td>\n",
              "      <td>9.751020e+10</td>\n",
              "      <td>4.614870e+11</td>\n",
              "      <td>4.037610e+12</td>\n",
              "      <td>1</td>\n",
              "      <td>1</td>\n",
              "      <td>1</td>\n",
              "      <td>2</td>\n",
              "      <td>2</td>\n",
              "      <td>1036825000</td>\n",
              "      <td>10330213</td>\n",
              "      <td>40405956</td>\n",
              "      <td>56422072</td>\n",
              "      <td>235825000</td>\n",
              "    </tr>\n",
              "  </tbody>\n",
              "</table>\n",
              "</div>"
            ],
            "text/plain": [
              "                       GDP                 ...     Population              \n",
              "Country Name         China Czech Republic  ... United Kingdom United States\n",
              "Year                                       ...                             \n",
              "1980-01-01    1.911490e+11            NaN  ...       56314216     227225000\n",
              "1981-01-01    1.958660e+11            NaN  ...       56333829     229466000\n",
              "1982-01-01    2.050900e+11            NaN  ...       56313641     231664000\n",
              "1983-01-01    2.306870e+11            NaN  ...       56332848     233792000\n",
              "1984-01-01    2.599470e+11            NaN  ...       56422072     235825000\n",
              "\n",
              "[5 rows x 15 columns]"
            ]
          },
          "metadata": {
            "tags": []
          },
          "execution_count": 79
        }
      ]
    },
    {
      "cell_type": "code",
      "metadata": {
        "id": "-9hRah57m3Wu",
        "colab_type": "code",
        "colab": {
          "base_uri": "https://localhost:8080/",
          "height": 34
        },
        "outputId": "c03e568c-84c3-4465-a20f-9d7ded0ff015"
      },
      "source": [
        "combined_3.index = pd.to_datetime(combined_3.index)\n",
        "type(combined_3.index)"
      ],
      "execution_count": 80,
      "outputs": [
        {
          "output_type": "execute_result",
          "data": {
            "text/plain": [
              "pandas.core.indexes.datetimes.DatetimeIndex"
            ]
          },
          "metadata": {
            "tags": []
          },
          "execution_count": 80
        }
      ]
    },
    {
      "cell_type": "code",
      "metadata": {
        "id": "WCaC-TesoH-U",
        "colab_type": "code",
        "colab": {
          "base_uri": "https://localhost:8080/",
          "height": 166
        },
        "outputId": "ccb7c9c9-a2d4-4a15-c4b2-6afb5483905c"
      },
      "source": [
        "combined_3['GDP'].head(3)"
      ],
      "execution_count": 84,
      "outputs": [
        {
          "output_type": "execute_result",
          "data": {
            "text/html": [
              "<div>\n",
              "<style scoped>\n",
              "    .dataframe tbody tr th:only-of-type {\n",
              "        vertical-align: middle;\n",
              "    }\n",
              "\n",
              "    .dataframe tbody tr th {\n",
              "        vertical-align: top;\n",
              "    }\n",
              "\n",
              "    .dataframe thead th {\n",
              "        text-align: right;\n",
              "    }\n",
              "</style>\n",
              "<table border=\"1\" class=\"dataframe\">\n",
              "  <thead>\n",
              "    <tr style=\"text-align: right;\">\n",
              "      <th>Country Name</th>\n",
              "      <th>China</th>\n",
              "      <th>Czech Republic</th>\n",
              "      <th>Korea, Rep.</th>\n",
              "      <th>United Kingdom</th>\n",
              "      <th>United States</th>\n",
              "    </tr>\n",
              "    <tr>\n",
              "      <th>Year</th>\n",
              "      <th></th>\n",
              "      <th></th>\n",
              "      <th></th>\n",
              "      <th></th>\n",
              "      <th></th>\n",
              "    </tr>\n",
              "  </thead>\n",
              "  <tbody>\n",
              "    <tr>\n",
              "      <th>1980-01-01</th>\n",
              "      <td>1.911490e+11</td>\n",
              "      <td>NaN</td>\n",
              "      <td>6.539860e+10</td>\n",
              "      <td>5.649480e+11</td>\n",
              "      <td>2.857310e+12</td>\n",
              "    </tr>\n",
              "    <tr>\n",
              "      <th>1981-01-01</th>\n",
              "      <td>1.958660e+11</td>\n",
              "      <td>NaN</td>\n",
              "      <td>7.293340e+10</td>\n",
              "      <td>5.407660e+11</td>\n",
              "      <td>3.207040e+12</td>\n",
              "    </tr>\n",
              "    <tr>\n",
              "      <th>1982-01-01</th>\n",
              "      <td>2.050900e+11</td>\n",
              "      <td>NaN</td>\n",
              "      <td>7.835890e+10</td>\n",
              "      <td>5.150490e+11</td>\n",
              "      <td>3.343790e+12</td>\n",
              "    </tr>\n",
              "  </tbody>\n",
              "</table>\n",
              "</div>"
            ],
            "text/plain": [
              "Country Name         China  Czech Republic  ...  United Kingdom  United States\n",
              "Year                                        ...                               \n",
              "1980-01-01    1.911490e+11             NaN  ...    5.649480e+11   2.857310e+12\n",
              "1981-01-01    1.958660e+11             NaN  ...    5.407660e+11   3.207040e+12\n",
              "1982-01-01    2.050900e+11             NaN  ...    5.150490e+11   3.343790e+12\n",
              "\n",
              "[3 rows x 5 columns]"
            ]
          },
          "metadata": {
            "tags": []
          },
          "execution_count": 84
        }
      ]
    },
    {
      "cell_type": "code",
      "metadata": {
        "id": "FJWIeEianEjM",
        "colab_type": "code",
        "colab": {}
      },
      "source": [
        "GDP = combined_3['GDP']"
      ],
      "execution_count": 82,
      "outputs": []
    },
    {
      "cell_type": "code",
      "metadata": {
        "id": "fCubryKgoGp1",
        "colab_type": "code",
        "colab": {
          "base_uri": "https://localhost:8080/",
          "height": 295
        },
        "outputId": "381435f7-eb53-4ff2-b73f-f0ca5bd936af"
      },
      "source": [
        "GDP.plot()\n",
        "\n",
        "plt.title('GDPs of Five Countries')\n",
        "plt.ylabel('GDP ($)')\n",
        "plt.xlabel('Year')\n",
        "plt.show()"
      ],
      "execution_count": 87,
      "outputs": [
        {
          "output_type": "display_data",
          "data": {
            "image/png": "[encoded data removed]",
            "text/plain": [
              "<Figure size 432x288 with 1 Axes>"
            ]
          },
          "metadata": {
            "tags": [],
            "needs_background": "light"
          }
        }
      ]
    },
    {
      "cell_type": "code",
      "metadata": {
        "id": "BZJK-p1xpcBm",
        "colab_type": "code",
        "colab": {
          "base_uri": "https://localhost:8080/",
          "height": 295
        },
        "outputId": "22ae7294-f1dc-402c-861b-c57444742ce1"
      },
      "source": [
        "POP = combined_3['Population']\n",
        "\n",
        "POP.plot()\n",
        "\n",
        "plt.title('Populations of Five Countries')\n",
        "plt.ylabel('People')\n",
        "plt.xlabel('Year')\n",
        "plt.show()"
      ],
      "execution_count": 88,
      "outputs": [
        {
          "output_type": "display_data",
          "data": {
            "image/png": "[encoded data removed]",
            "text/plain": [
              "<Figure size 432x288 with 1 Axes>"
            ]
          },
          "metadata": {
            "tags": [],
            "needs_background": "light"
          }
        }
      ]
    },
    {
      "cell_type": "code",
      "metadata": {
        "id": "F7KY1mRsptEt",
        "colab_type": "code",
        "colab": {
          "base_uri": "https://localhost:8080/",
          "height": 295
        },
        "outputId": "998964b7-fbe8-4067-b0d6-650f70191dd6"
      },
      "source": [
        "NATO = combined_3['NATO Membership']\n",
        "\n",
        "NATO.plot()\n",
        "\n",
        "plt.title('Populations of Five Countries')\n",
        "plt.ylabel('People')\n",
        "plt.xlabel('Year')\n",
        "plt.show()"
      ],
      "execution_count": 96,
      "outputs": [
        {
          "output_type": "display_data",
          "data": {
            "image/png": "[encoded data removed]",
            "text/plain": [
              "<Figure size 432x288 with 1 Axes>"
            ]
          },
          "metadata": {
            "tags": [],
            "needs_background": "light"
          }
        }
      ]
    },
    {
      "cell_type": "code",
      "metadata": {
        "id": "aNUKaHIvq3kH",
        "colab_type": "code",
        "colab": {
          "base_uri": "https://localhost:8080/",
          "height": 295
        },
        "outputId": "cb8d1c55-9ae2-41a6-d0ba-532762efb856"
      },
      "source": [
        "GDP_CAP = GDP/POP\n",
        "\n",
        "GDP_CAP.plot()\n",
        "\n",
        "plt.title('GDPs per Capita of Five Countries')\n",
        "plt.ylabel('$')\n",
        "plt.xlabel('Year')\n",
        "plt.show()"
      ],
      "execution_count": 99,
      "outputs": [
        {
          "output_type": "display_data",
          "data": {
            "image/png": "[encoded data removed]",
            "text/plain": [
              "<Figure size 432x288 with 1 Axes>"
            ]
          },
          "metadata": {
            "tags": [],
            "needs_background": "light"
          }
        }
      ]
    },
    {
      "cell_type": "code",
      "metadata": {
        "id": "AuSuUResqpO2",
        "colab_type": "code",
        "colab": {
          "base_uri": "https://localhost:8080/",
          "height": 295
        },
        "outputId": "e8840d54-1ae3-4064-c898-720417e9a04f"
      },
      "source": [
        "GDP.plot()\n",
        "\n",
        "plt.title('GDPs of Five Countries')\n",
        "plt.ylabel('GDP ($)')\n",
        "plt.xlabel('Year')\n",
        "plt.show()"
      ],
      "execution_count": 100,
      "outputs": [
        {
          "output_type": "display_data",
          "data": {
            "image/png": "[encoded data removed]",
            "text/plain": [
              "<Figure size 432x288 with 1 Axes>"
            ]
          },
          "metadata": {
            "tags": [],
            "needs_background": "light"
          }
        }
      ]
    },
    {
      "cell_type": "markdown",
      "metadata": {
        "id": "jtIKV5LMueCS",
        "colab_type": "text"
      },
      "source": [
        "# **4. 경제성장률의 근사(approximation)를 통한 log 변환의 이해와 주의할 점**"
      ]
    },
    {
      "cell_type": "markdown",
      "metadata": {
        "id": "Voo0ze5jDikw",
        "colab_type": "text"
      },
      "source": [
        "$\\ln(x) \\approx x-1$.   (at around $x = 1$)."
      ]
    },
    {
      "cell_type": "markdown",
      "metadata": {
        "id": "8YDG7aePDinA",
        "colab_type": "text"
      },
      "source": [
        "<img src=https://xaktly.com/Images/Mathematics/LinearApproximation/Example1Graph.png width=\"350\">"
      ]
    },
    {
      "cell_type": "markdown",
      "metadata": {
        "id": "fUfUlEudDirF",
        "colab_type": "text"
      },
      "source": [
        "$\\ln(1+x) \\approx x$. (at around $x = 0$). (위의 그림에서 왼쪽으로 1만큼 평행이동한 것과 같습니다.)"
      ]
    },
    {
      "cell_type": "markdown",
      "metadata": {
        "id": "L1jkqVhqrPz0",
        "colab_type": "text"
      },
      "source": [
        "$\\ln(1+g_t) \\approx g_t$  (경제성장률은 커봐야 0.1쯤이다.)\n",
        "\n",
        "좌변을 풀어보자.\n",
        "\n",
        "$\\ln(1+ \\frac{y_t - y_{t-1}}{y_{t-1}}) = \\ln(1+\\frac{y_t}{y_{t-1}} -1) = \\ln(\\frac{y_t}{y_{t-1}}) = \\ln y_t - \\ln y_{t-1} = \\frac{\\ln y_t - \\ln y_{t-1}}{t - (t-1)}$\n",
        "\n",
        "결국, $\\ln y$의 기울기가 곧 성장률($g_t$)이 된다고 볼 수 있다.\n",
        "\n",
        "즉, GDP($y_t$)에 로그($\\ln$)를 취한 후에 그 기울기를 보면 된다.\n",
        "\n",
        "GDP 그래프에서는 눈으로는 경제성장률을 파악하기 어려운 상황이었는데,\n",
        "\n",
        "GDP에 로그 변환을 취하면 눈으로 경제성장률을 확인할 수 있다.\n",
        "\n"
      ]
    },
    {
      "cell_type": "code",
      "metadata": {
        "id": "6vXwNXbQH6Yd",
        "colab_type": "code",
        "colab": {
          "base_uri": "https://localhost:8080/",
          "height": 295
        },
        "outputId": "2338d913-3c7c-45fc-a040-ca593bcfe2d1"
      },
      "source": [
        "import numpy as np\n",
        "\n",
        "log_GDP = np.log(GDP)\n",
        "\n",
        "log_GDP.plot()\n",
        "\n",
        "plt.title('Logs of GDPs')\n",
        "plt.ylabel('$')\n",
        "plt.xlabel('Year')\n",
        "plt.show()"
      ],
      "execution_count": 107,
      "outputs": [
        {
          "output_type": "display_data",
          "data": {
            "image/png": "[encoded data removed]",
            "text/plain": [
              "<Figure size 432x288 with 1 Axes>"
            ]
          },
          "metadata": {
            "tags": [],
            "needs_background": "light"
          }
        }
      ]
    },
    {
      "cell_type": "code",
      "metadata": {
        "id": "RIUU5whewN2S",
        "colab_type": "code",
        "colab": {}
      },
      "source": [
        "a = log_GDP.diff()"
      ],
      "execution_count": 115,
      "outputs": []
    },
    {
      "cell_type": "code",
      "metadata": {
        "id": "HK1wa9WZwQAx",
        "colab_type": "code",
        "colab": {
          "base_uri": "https://localhost:8080/",
          "height": 34
        },
        "outputId": "06dfc1f5-d572-4b5b-ed8b-a9486c3861ab"
      },
      "source": [
        "type(a)"
      ],
      "execution_count": 111,
      "outputs": [
        {
          "output_type": "execute_result",
          "data": {
            "text/plain": [
              "pandas.core.frame.DataFrame"
            ]
          },
          "metadata": {
            "tags": []
          },
          "execution_count": 111
        }
      ]
    },
    {
      "cell_type": "code",
      "metadata": {
        "id": "z8KfAqo5uwYS",
        "colab_type": "code",
        "colab": {
          "base_uri": "https://localhost:8080/",
          "height": 295
        },
        "outputId": "96707d62-f81a-4b75-96a6-4e37bc1ab3e6"
      },
      "source": [
        "a.plot()\n",
        "\n",
        "plt.title('Approximated Growth Rates')\n",
        "plt.ylabel('%/100')\n",
        "plt.xlabel('Year')\n",
        "plt.show()"
      ],
      "execution_count": 114,
      "outputs": [
        {
          "output_type": "display_data",
          "data": {
            "image/png": "[encoded data removed]",
            "text/plain": [
              "<Figure size 432x288 with 1 Axes>"
            ]
          },
          "metadata": {
            "tags": [],
            "needs_background": "light"
          }
        }
      ]
    },
    {
      "cell_type": "markdown",
      "metadata": {
        "id": "58-vy6APx1TB",
        "colab_type": "text"
      },
      "source": [
        "\n",
        "\n",
        "*   ##    로그 변환을 할 때 주의할 점에는 무엇이 있을까요? (힌트: 아래의 그림)\n",
        "\n"
      ]
    },
    {
      "cell_type": "markdown",
      "metadata": {
        "id": "8PPb6-GnyKfC",
        "colab_type": "text"
      },
      "source": [
        "<img src=https://upload.wikimedia.org/wikipedia/commons/thumb/8/81/Logarithm_plots.png/300px-Logarithm_plots.png width=\"300\">\n"
      ]
    },
    {
      "cell_type": "code",
      "metadata": {
        "id": "LfitMDNlyjfZ",
        "colab_type": "code",
        "colab": {}
      },
      "source": [
        ""
      ],
      "execution_count": null,
      "outputs": []
    }
  ]
}